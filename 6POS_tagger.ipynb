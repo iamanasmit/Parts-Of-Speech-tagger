{
 "cells": [
  {
   "cell_type": "markdown",
   "metadata": {},
   "source": [
    "### POS tagging using Bidirectional LSTM"
   ]
  },
  {
   "cell_type": "markdown",
   "metadata": {},
   "source": [
    "Data ingestion"
   ]
  },
  {
   "cell_type": "code",
   "execution_count": 1,
   "metadata": {},
   "outputs": [
    {
     "name": "stderr",
     "output_type": "stream",
     "text": [
      "[nltk_data] Downloading package treebank to\n",
      "[nltk_data]     C:\\Users\\anasm\\AppData\\Roaming\\nltk_data...\n",
      "[nltk_data]   Unzipping corpora\\treebank.zip.\n",
      "[nltk_data] Downloading package brown to\n",
      "[nltk_data]     C:\\Users\\anasm\\AppData\\Roaming\\nltk_data...\n",
      "[nltk_data]   Unzipping corpora\\brown.zip.\n",
      "[nltk_data] Downloading package conll2000 to\n",
      "[nltk_data]     C:\\Users\\anasm\\AppData\\Roaming\\nltk_data...\n",
      "[nltk_data]   Unzipping corpora\\conll2000.zip.\n"
     ]
    },
    {
     "data": {
      "text/plain": [
       "True"
      ]
     },
     "execution_count": 1,
     "metadata": {},
     "output_type": "execute_result"
    }
   ],
   "source": [
    "import nltk\n",
    "nltk.download('treebank')\n",
    "nltk.download('brown')\n",
    "nltk.download('conll2000')"
   ]
  },
  {
   "cell_type": "code",
   "execution_count": 3,
   "metadata": {},
   "outputs": [
    {
     "name": "stderr",
     "output_type": "stream",
     "text": [
      "[nltk_data] Downloading package universal_tagset to\n",
      "[nltk_data]     C:\\Users\\anasm\\AppData\\Roaming\\nltk_data...\n",
      "[nltk_data]   Unzipping taggers\\universal_tagset.zip.\n"
     ]
    },
    {
     "data": {
      "text/plain": [
       "True"
      ]
     },
     "execution_count": 3,
     "metadata": {},
     "output_type": "execute_result"
    }
   ],
   "source": [
    "nltk.download('universal_tagset')"
   ]
  },
  {
   "cell_type": "code",
   "execution_count": null,
   "metadata": {},
   "outputs": [
    {
     "name": "stdout",
     "output_type": "stream",
     "text": [
      "[('Pierre', 'NOUN'), ('Vinken', 'NOUN'), (',', '.'), ('61', 'NUM'), ('years', 'NOUN'), ('old', 'ADJ'), (',', '.'), ('will', 'VERB'), ('join', 'VERB'), ('the', 'DET'), ('board', 'NOUN'), ('as', 'ADP'), ('a', 'DET'), ('nonexecutive', 'ADJ'), ('director', 'NOUN'), ('Nov.', 'NOUN'), ('29', 'NUM'), ('.', '.')]\n"
     ]
    },
    {
     "data": {
      "text/plain": [
       "72202"
      ]
     },
     "execution_count": 5,
     "metadata": {},
     "output_type": "execute_result"
    }
   ],
   "source": [
    "from nltk.corpus import treebank, brown, conll2000\n",
    "tagged_sentences = treebank.tagged_sents(tagset='universal') +\\\n",
    "                   brown.tagged_sents(tagset='universal') +\\\n",
    "                   conll2000.tagged_sents(tagset='universal')\n",
    "\n",
    "print(tagged_sentences[0])#list of list of tuples\n",
    "len(tagged_sentences)"
   ]
  },
  {
   "cell_type": "markdown",
   "metadata": {},
   "source": [
    "Our model will input text and output parts of speech label. Accordingly we will create the data"
   ]
  },
  {
   "cell_type": "code",
   "execution_count": 12,
   "metadata": {},
   "outputs": [],
   "source": [
    "sentences=[]\n",
    "sentence_tags=[]\n",
    "\n",
    "for s in tagged_sentences:\n",
    "    sentence=[]\n",
    "    tags=[]\n",
    "    for word, tag in s:\n",
    "        sentence.append(word)\n",
    "        tags.append(tag)\n",
    "    \n",
    "    sentences.append(sentence)\n",
    "    sentence_tags.append(tags)"
   ]
  },
  {
   "cell_type": "code",
   "execution_count": 14,
   "metadata": {},
   "outputs": [
    {
     "name": "stdout",
     "output_type": "stream",
     "text": [
      "['NOUN', 'NOUN', '.', 'NUM', 'NOUN', 'ADJ', '.', 'VERB', 'VERB', 'DET', 'NOUN', 'ADP', 'DET', 'ADJ', 'NOUN', 'NOUN', 'NUM', '.']\n",
      "['Pierre', 'Vinken', ',', '61', 'years', 'old', ',', 'will', 'join', 'the', 'board', 'as', 'a', 'nonexecutive', 'director', 'Nov.', '29', '.']\n"
     ]
    }
   ],
   "source": [
    "print(sentence_tags[0])\n",
    "print(sentences[0])"
   ]
  },
  {
   "cell_type": "code",
   "execution_count": 15,
   "metadata": {},
   "outputs": [
    {
     "name": "stdout",
     "output_type": "stream",
     "text": [
      "72202 72202\n"
     ]
    }
   ],
   "source": [
    "# a sanity check whether we correctly tagged\n",
    "print(len(sentences), len(sentence_tags))"
   ]
  },
  {
   "cell_type": "code",
   "execution_count": 17,
   "metadata": {},
   "outputs": [
    {
     "name": "stdout",
     "output_type": "stream",
     "text": [
      "57761\n",
      "14441\n",
      "57761\n",
      "14441\n"
     ]
    }
   ],
   "source": [
    "#now we split the data into training and test data\n",
    "from sklearn.model_selection import train_test_split\n",
    "X_train, X_test, y_train, y_test=train_test_split(sentences, sentence_tags, test_size=0.2)\n",
    "print(len(X_train), len(X_test), len(y_train), len(y_test), sep='\\n')"
   ]
  },
  {
   "cell_type": "markdown",
   "metadata": {},
   "source": [
    "Now we tokenize the training text using the keras tokenizer with an out of vocabulary token"
   ]
  },
  {
   "cell_type": "code",
   "execution_count": 20,
   "metadata": {},
   "outputs": [],
   "source": [
    "from keras_preprocessing.text import Tokenizer\n",
    "tok_sentence=Tokenizer(oov_token='<OOV>')\n",
    "tok_sentence.fit_on_texts(X_train)"
   ]
  },
  {
   "cell_type": "code",
   "execution_count": 22,
   "metadata": {},
   "outputs": [],
   "source": [
    "# we need another tokenizer for labels because they are also sequences\n",
    "tok_label=Tokenizer()\n",
    "tok_label.fit_on_texts(y_train)"
   ]
  },
  {
   "cell_type": "code",
   "execution_count": 23,
   "metadata": {},
   "outputs": [
    {
     "data": {
      "text/plain": [
       "{'noun': 1,\n",
       " 'verb': 2,\n",
       " '.': 3,\n",
       " 'adp': 4,\n",
       " 'det': 5,\n",
       " 'adj': 6,\n",
       " 'adv': 7,\n",
       " 'pron': 8,\n",
       " 'conj': 9,\n",
       " 'prt': 10,\n",
       " 'num': 11,\n",
       " 'x': 12}"
      ]
     },
     "execution_count": 23,
     "metadata": {},
     "output_type": "execute_result"
    }
   ],
   "source": [
    "tok_label.word_index"
   ]
  },
  {
   "cell_type": "markdown",
   "metadata": {},
   "source": [
    "Now we vecorize the sentences and corresponding tags since both are sequences"
   ]
  },
  {
   "cell_type": "code",
   "execution_count": 25,
   "metadata": {},
   "outputs": [],
   "source": [
    "X_train_seq=tok_sentence.texts_to_sequences(X_train)\n",
    "y_train_seq=tok_label.texts_to_sequences(y_train)"
   ]
  },
  {
   "cell_type": "markdown",
   "metadata": {},
   "source": [
    "Although RNN can process variable input length we will pad the sequences to improve performance"
   ]
  },
  {
   "cell_type": "code",
   "execution_count": 27,
   "metadata": {},
   "outputs": [],
   "source": [
    "from keras_preprocessing.sequence import pad_sequences\n",
    "X_train_padded=pad_sequences(X_train_seq, maxlen=170, padding='pre')"
   ]
  },
  {
   "cell_type": "code",
   "execution_count": 32,
   "metadata": {},
   "outputs": [
    {
     "data": {
      "text/plain": [
       "array([ 0,  0,  0,  0,  0,  0,  0,  0,  0,  0,  0,  0,  0,  0,  0,  0,  0,\n",
       "        0,  0,  0,  0,  0,  0,  0,  0,  0,  0,  0,  0,  0,  0,  0,  0,  0,\n",
       "        0,  0,  0,  0,  0,  0,  0,  0,  0,  0,  0,  0,  0,  0,  0,  0,  0,\n",
       "        0,  0,  0,  0,  0,  0,  0,  0,  0,  0,  0,  0,  0,  0,  0,  0,  0,\n",
       "        0,  0,  0,  0,  0,  0,  0,  0,  0,  0,  0,  0,  0,  0,  0,  0,  0,\n",
       "        0,  0,  0,  0,  0,  0,  0,  0,  0,  0,  0,  0,  0,  0,  0,  0,  0,\n",
       "        0,  0,  0,  0,  0,  0,  0,  0,  0,  0,  0,  0,  0,  0,  0,  0,  0,\n",
       "        0,  0,  0,  0,  0,  0,  0,  0,  0,  0,  0,  0,  0,  0,  0,  0,  0,\n",
       "        0,  0,  0,  0,  0,  0,  0,  0,  0,  0,  0,  0,  0,  0,  0,  0,  0,\n",
       "        0,  0,  0,  3,  2,  8,  2,  8,  7, 10,  2,  7,  4,  5,  1,  3,  3])"
      ]
     },
     "execution_count": 32,
     "metadata": {},
     "output_type": "execute_result"
    }
   ],
   "source": [
    "y_train_padded=pad_sequences(y_train_seq, maxlen=170, padding='pre')\n",
    "y_train_padded[0]"
   ]
  },
  {
   "cell_type": "code",
   "execution_count": 36,
   "metadata": {},
   "outputs": [
    {
     "data": {
      "text/plain": [
       "(57761, 170, 13)"
      ]
     },
     "execution_count": 36,
     "metadata": {},
     "output_type": "execute_result"
    }
   ],
   "source": [
    "from keras.utils import to_categorical\n",
    "y_train_categorical=to_categorical(y_train_padded)\n",
    "y_train_categorical.shape"
   ]
  },
  {
   "cell_type": "code",
   "execution_count": 38,
   "metadata": {},
   "outputs": [
    {
     "name": "stdout",
     "output_type": "stream",
     "text": [
      "a single label containing 170 vectors [[1. 0. 0. ... 0. 0. 0.]\n",
      " [1. 0. 0. ... 0. 0. 0.]\n",
      " [1. 0. 0. ... 0. 0. 0.]\n",
      " ...\n",
      " [0. 1. 0. ... 0. 0. 0.]\n",
      " [0. 0. 0. ... 0. 0. 0.]\n",
      " [0. 0. 0. ... 0. 0. 0.]]\n",
      "a single tag one hot encoded [1. 0. 0. 0. 0. 0. 0. 0. 0. 0. 0. 0. 0.]\n"
     ]
    }
   ],
   "source": [
    "print(f'a single label containing 170 vectors {y_train_categorical[0]}')\n",
    "print(f'a single tag one hot encoded {y_train_categorical[0][0]}')"
   ]
  },
  {
   "cell_type": "markdown",
   "metadata": {},
   "source": [
    "To get the POS tag from the one hot encoded labels we can query the dictionary"
   ]
  },
  {
   "cell_type": "code",
   "execution_count": 40,
   "metadata": {},
   "outputs": [
    {
     "name": "stdout",
     "output_type": "stream",
     "text": [
      "index=1\n",
      "tag: noun\n"
     ]
    }
   ],
   "source": [
    "import numpy as np\n",
    "idx=np.argmax(y_train_categorical[0][1])+1\n",
    "print(f'index={idx}')\n",
    "print(f'tag: {tok_label.index_word[idx]}')"
   ]
  },
  {
   "cell_type": "markdown",
   "metadata": {},
   "source": [
    "Model Building"
   ]
  },
  {
   "cell_type": "code",
   "execution_count": 43,
   "metadata": {},
   "outputs": [],
   "source": [
    "num_tokens=len(tok_sentence.word_index)+1\n",
    "embedding_dim=128\n",
    "\n",
    "#for output layer, number of classes=nuber of possible tags\n",
    "num_classes=len(tok_label.word_index)+1"
   ]
  },
  {
   "cell_type": "code",
   "execution_count": 51,
   "metadata": {},
   "outputs": [],
   "source": [
    "from keras import Sequential\n",
    "from keras.layers import Dense, Embedding, Bidirectional, LSTM\n",
    "\n",
    "model=Sequential()\n",
    "model.add(Embedding(input_dim=num_tokens, output_dim=embedding_dim, input_length=170, mask_zero=True))\n",
    "#by setting mask_zero=True, we make sure the pre padded zeros are ignored by subsequent layers\n",
    "\n",
    "model.add(Bidirectional(LSTM(128, return_sequences=True)))#since it is a many to many RNN we need to set return seq=True\n",
    "model.add(Dense(num_classes, activation='softmax'))\n",
    "\n",
    "model.compile(loss='categorical_crossentropy', optimizer='adam', metrics=['accuracy'])"
   ]
  },
  {
   "cell_type": "code",
   "execution_count": 52,
   "metadata": {},
   "outputs": [
    {
     "name": "stdout",
     "output_type": "stream",
     "text": [
      "Epoch 1/20\n",
      "\u001b[1m1806/1806\u001b[0m \u001b[32m━━━━━━━━━━━━━━━━━━━━\u001b[0m\u001b[37m\u001b[0m \u001b[1m235s\u001b[0m 128ms/step - accuracy: 0.1079 - loss: 0.5227\n",
      "Epoch 2/20\n",
      "\u001b[1m1806/1806\u001b[0m \u001b[32m━━━━━━━━━━━━━━━━━━━━\u001b[0m\u001b[37m\u001b[0m \u001b[1m193s\u001b[0m 107ms/step - accuracy: 0.1216 - loss: 0.0648\n",
      "Epoch 3/20\n",
      "\u001b[1m1806/1806\u001b[0m \u001b[32m━━━━━━━━━━━━━━━━━━━━\u001b[0m\u001b[37m\u001b[0m \u001b[1m193s\u001b[0m 107ms/step - accuracy: 0.1219 - loss: 0.0411\n",
      "Epoch 4/20\n",
      "\u001b[1m1806/1806\u001b[0m \u001b[32m━━━━━━━━━━━━━━━━━━━━\u001b[0m\u001b[37m\u001b[0m \u001b[1m193s\u001b[0m 107ms/step - accuracy: 0.1231 - loss: 0.0286\n",
      "Epoch 5/20\n",
      "\u001b[1m1806/1806\u001b[0m \u001b[32m━━━━━━━━━━━━━━━━━━━━\u001b[0m\u001b[37m\u001b[0m \u001b[1m194s\u001b[0m 107ms/step - accuracy: 0.1227 - loss: 0.0211\n",
      "Epoch 6/20\n",
      "\u001b[1m1806/1806\u001b[0m \u001b[32m━━━━━━━━━━━━━━━━━━━━\u001b[0m\u001b[37m\u001b[0m \u001b[1m194s\u001b[0m 108ms/step - accuracy: 0.1239 - loss: 0.0143\n",
      "Epoch 7/20\n",
      "\u001b[1m1806/1806\u001b[0m \u001b[32m━━━━━━━━━━━━━━━━━━━━\u001b[0m\u001b[37m\u001b[0m \u001b[1m193s\u001b[0m 107ms/step - accuracy: 0.1239 - loss: 0.0092\n",
      "Epoch 8/20\n",
      "\u001b[1m1806/1806\u001b[0m \u001b[32m━━━━━━━━━━━━━━━━━━━━\u001b[0m\u001b[37m\u001b[0m \u001b[1m192s\u001b[0m 106ms/step - accuracy: 0.1237 - loss: 0.0064\n",
      "Epoch 9/20\n",
      "\u001b[1m1806/1806\u001b[0m \u001b[32m━━━━━━━━━━━━━━━━━━━━\u001b[0m\u001b[37m\u001b[0m \u001b[1m195s\u001b[0m 108ms/step - accuracy: 0.1241 - loss: 0.0044\n",
      "Epoch 10/20\n",
      "\u001b[1m1806/1806\u001b[0m \u001b[32m━━━━━━━━━━━━━━━━━━━━\u001b[0m\u001b[37m\u001b[0m \u001b[1m193s\u001b[0m 107ms/step - accuracy: 0.1236 - loss: 0.0032\n",
      "Epoch 11/20\n",
      "\u001b[1m1806/1806\u001b[0m \u001b[32m━━━━━━━━━━━━━━━━━━━━\u001b[0m\u001b[37m\u001b[0m \u001b[1m195s\u001b[0m 108ms/step - accuracy: 0.1230 - loss: 0.0023\n",
      "Epoch 12/20\n",
      "\u001b[1m1806/1806\u001b[0m \u001b[32m━━━━━━━━━━━━━━━━━━━━\u001b[0m\u001b[37m\u001b[0m \u001b[1m190s\u001b[0m 105ms/step - accuracy: 0.1238 - loss: 0.0022\n",
      "Epoch 13/20\n",
      "\u001b[1m1806/1806\u001b[0m \u001b[32m━━━━━━━━━━━━━━━━━━━━\u001b[0m\u001b[37m\u001b[0m \u001b[1m194s\u001b[0m 107ms/step - accuracy: 0.1239 - loss: 0.0016\n",
      "Epoch 14/20\n",
      "\u001b[1m1806/1806\u001b[0m \u001b[32m━━━━━━━━━━━━━━━━━━━━\u001b[0m\u001b[37m\u001b[0m \u001b[1m269s\u001b[0m 149ms/step - accuracy: 0.1244 - loss: 0.0015\n",
      "Epoch 15/20\n",
      "\u001b[1m1806/1806\u001b[0m \u001b[32m━━━━━━━━━━━━━━━━━━━━\u001b[0m\u001b[37m\u001b[0m \u001b[1m306s\u001b[0m 170ms/step - accuracy: 0.1237 - loss: 0.0015\n",
      "Epoch 16/20\n",
      "\u001b[1m1806/1806\u001b[0m \u001b[32m━━━━━━━━━━━━━━━━━━━━\u001b[0m\u001b[37m\u001b[0m \u001b[1m308s\u001b[0m 170ms/step - accuracy: 0.1240 - loss: 0.0017\n",
      "Epoch 17/20\n",
      "\u001b[1m1806/1806\u001b[0m \u001b[32m━━━━━━━━━━━━━━━━━━━━\u001b[0m\u001b[37m\u001b[0m \u001b[1m305s\u001b[0m 169ms/step - accuracy: 0.1242 - loss: 9.8985e-04\n",
      "Epoch 18/20\n",
      "\u001b[1m1806/1806\u001b[0m \u001b[32m━━━━━━━━━━━━━━━━━━━━\u001b[0m\u001b[37m\u001b[0m \u001b[1m291s\u001b[0m 161ms/step - accuracy: 0.1242 - loss: 9.7426e-04\n",
      "Epoch 19/20\n",
      "\u001b[1m1806/1806\u001b[0m \u001b[32m━━━━━━━━━━━━━━━━━━━━\u001b[0m\u001b[37m\u001b[0m \u001b[1m204s\u001b[0m 113ms/step - accuracy: 0.1244 - loss: 0.0010\n",
      "Epoch 20/20\n",
      "\u001b[1m1806/1806\u001b[0m \u001b[32m━━━━━━━━━━━━━━━━━━━━\u001b[0m\u001b[37m\u001b[0m \u001b[1m202s\u001b[0m 112ms/step - accuracy: 0.1236 - loss: 8.5873e-04\n"
     ]
    },
    {
     "data": {
      "text/plain": [
       "<keras.src.callbacks.history.History at 0x1fd950408c0>"
      ]
     },
     "execution_count": 52,
     "metadata": {},
     "output_type": "execute_result"
    }
   ],
   "source": [
    "model.fit(X_train_padded, y_train_categorical, epochs=20)"
   ]
  },
  {
   "cell_type": "code",
   "execution_count": 74,
   "metadata": {},
   "outputs": [],
   "source": [
    "def tag_sentences(sentences: list):\n",
    "    sentences_seq=tok_sentence.texts_to_sequences(sentences)\n",
    "    sentences_seq_padded=pad_sequences(sentences_seq, maxlen=170, padding='pre')\n",
    "\n",
    "    tag_pred=model.predict(sentences_seq_padded)\n",
    "    sentence_tags=[]\n",
    "\n",
    "    for i, pred in enumerate(tag_pred):\n",
    "        tags_seq=[np.argmax(p) for p in pred[170-len(sentences_seq[i]): 170]]\n",
    "\n",
    "        words = [tok_sentence.index_word[w] for w in sentences_seq[i]]\n",
    "        tags = [tok_label.index_word[t] for t in tags_seq]\n",
    "        sentence_tags.append(list(zip(words, tags)))\n",
    "\n",
    "    return sentence_tags"
   ]
  },
  {
   "cell_type": "code",
   "execution_count": 79,
   "metadata": {},
   "outputs": [],
   "source": [
    "samples = [\n",
    "    \"Brown refused to testify.\",\n",
    "    \"Come as you are\",\n",
    "]"
   ]
  },
  {
   "cell_type": "code",
   "execution_count": 80,
   "metadata": {},
   "outputs": [
    {
     "name": "stdout",
     "output_type": "stream",
     "text": [
      "\u001b[1m1/1\u001b[0m \u001b[32m━━━━━━━━━━━━━━━━━━━━\u001b[0m\u001b[37m\u001b[0m \u001b[1m0s\u001b[0m 131ms/step\n"
     ]
    }
   ],
   "source": [
    "tagged_sentences=tag_sentences(samples)"
   ]
  },
  {
   "cell_type": "code",
   "execution_count": 81,
   "metadata": {},
   "outputs": [
    {
     "name": "stdout",
     "output_type": "stream",
     "text": [
      "[('brown', 'noun'), ('refused', 'verb'), ('to', 'prt'), ('testify', 'verb')]\n",
      "[('come', 'verb'), ('as', 'adp'), ('you', 'pron'), ('are', 'verb')]\n"
     ]
    }
   ],
   "source": [
    "print(tagged_sentences[0])\n",
    "print(tagged_sentences[1])"
   ]
  },
  {
   "cell_type": "code",
   "execution_count": null,
   "metadata": {},
   "outputs": [],
   "source": []
  }
 ],
 "metadata": {
  "kernelspec": {
   "display_name": "Python 3",
   "language": "python",
   "name": "python3"
  },
  "language_info": {
   "codemirror_mode": {
    "name": "ipython",
    "version": 3
   },
   "file_extension": ".py",
   "mimetype": "text/x-python",
   "name": "python",
   "nbconvert_exporter": "python",
   "pygments_lexer": "ipython3",
   "version": "3.12.1"
  }
 },
 "nbformat": 4,
 "nbformat_minor": 2
}
